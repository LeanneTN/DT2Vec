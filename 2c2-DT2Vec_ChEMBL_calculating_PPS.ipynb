{
 "cells": [
  {
   "cell_type": "markdown",
   "metadata": {},
   "source": [
    "# Protein-protein similarity\n",
    "- R package for similarity\n",
    "https://cran.r-project.org/web/packages/protr/protr.pdf\n",
    "- Main paper: https://bioconductor.org/packages/release/bioc/html/Biostrings.html"
   ]
  },
  {
   "cell_type": "code",
   "execution_count": null,
   "metadata": {},
   "outputs": [],
   "source": [
    "library(protr)\n",
    "library(dplyr)\n",
    "library(GOSemSim)\n",
    "library(Biostrings)\n",
    "library(foreach)\n",
    "library(doParallel)"
   ]
  },
  {
   "cell_type": "code",
   "execution_count": null,
   "metadata": {},
   "outputs": [],
   "source": [
    "df_DTI <- read.csv(file = \"Entrez_protein_DTI.csv\", header = FALSE)\n",
    "df_DTI$V1 <- as.character(df_DTI$V1)\n",
    "genelist = c(df_DTI$V1)\n",
    "sprintf(\"Number of genes in DTI:  %s\", length(genelist))"
   ]
  },
  {
   "cell_type": "markdown",
   "metadata": {},
   "source": [
    "## Finding \"uniprot\" id\n",
    "- Go to https://www.uniprot.org/uploadlists/ --> \"Retrieve/ID mapping\" section\n",
    "- Enter protein/target ChEMBL id from \"/data/Elmira_Data/ChEMBL/DTI_known_ChEMBL\"\n",
    "- DL fasta and excel file (second col)\n",
    "- protkist: https://www.uniprot.org/ --> \"Retrieve/ID mapping\" --> selecct \"ChEMBL\" to  \"UniPortKB\" --> Sequemce\n"
   ]
  },
  {
   "cell_type": "code",
   "execution_count": null,
   "metadata": {},
   "outputs": [],
   "source": [
    "protlist_temp <- read.csv(file = \"uniprot_Seq.csv\")\n",
    "head(protlist_temp,3)"
   ]
  },
  {
   "cell_type": "markdown",
   "metadata": {},
   "source": [
    "## Measuring similarity by Sequence Similarity\n"
   ]
  },
  {
   "cell_type": "code",
   "execution_count": null,
   "metadata": {},
   "outputs": [],
   "source": [
    "protlist <- c(dplyr::pull(protlist_temp,Sequence))"
   ]
  },
  {
   "cell_type": "code",
   "execution_count": null,
   "metadata": {},
   "outputs": [],
   "source": [
    "PPS_matrix = parSeqSim(protlist, cores = 8, batches = 4, type = \"local\", submat = \"BLOSUM62\")"
   ]
  },
  {
   "cell_type": "code",
   "execution_count": null,
   "metadata": {},
   "outputs": [],
   "source": [
    "write.csv(PPS_matrix, file = sprintf(\"PPS(seq)_known_ChEMBLid_P%s.csv\", length(genelist)))"
   ]
  }
 ],
 "metadata": {
  "kernelspec": {
   "display_name": "R",
   "language": "R",
   "name": "ir"
  },
  "language_info": {
   "codemirror_mode": "r",
   "file_extension": ".r",
   "mimetype": "text/x-r-source",
   "name": "R",
   "pygments_lexer": "r",
   "version": "4.0.2"
  }
 },
 "nbformat": 4,
 "nbformat_minor": 4
}
