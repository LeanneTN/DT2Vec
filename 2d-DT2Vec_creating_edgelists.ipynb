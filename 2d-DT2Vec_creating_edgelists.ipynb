{
 "cells": [
  {
   "cell_type": "code",
   "execution_count": null,
   "metadata": {},
   "outputs": [],
   "source": [
    "import pandas as pd\n",
    "import pickle\n",
    "import numpy as np"
   ]
  },
  {
   "cell_type": "code",
   "execution_count": null,
   "metadata": {},
   "outputs": [],
   "source": [
    "FILE_PATH = '.'"
   ]
  },
  {
   "cell_type": "code",
   "execution_count": null,
   "metadata": {},
   "outputs": [],
   "source": [
    "def similarity_interaction(df_tmp):\n",
    "    \n",
    "    \"\"\"\n",
    "    This function will clean protein-protein similarity. \n",
    "    \n",
    "    Args: protein-protein similarity dataframe\n",
    "\n",
    "    Returns: cleran protein-protein similarity dataframe\n",
    "    \n",
    "    \"\"\"\n",
    "    \n",
    "    # number of unique genes before cleaning data\n",
    "    print(f'number of drug/gene is :{len(set(list(df_tmp)+ df_tmp.index))}') \n",
    "        \n",
    "    df_tmp.columns = pd.Index(map(lambda x : x.lstrip('hsa'), df_tmp.columns))\n",
    "    df_tmp.index = pd.Index(map(lambda x : x.lstrip('hsa'), df_tmp.index))\n",
    "\n",
    "    # set diagonal as NAN (similarity of drugs with itself)\n",
    "    df_tmp.values[[np.arange(len(df_tmp))]*2] = np.nan \n",
    "    \n",
    "    # stack() gives all links similarities\n",
    "    df_tmp = df_tmp.stack().reset_index().rename(columns={'level_0':'to', 'level_1':'from', 0:'weight'}) \n",
    "\n",
    "    # remove dublicate similarity because a->b is same as b->a (remove rows with same (from,to))\n",
    "    # combining (from,to) columns in a new coulmn as a list, and sort it \n",
    "    df_tmp['to_from'] = df_tmp[['to','from']].apply(list, axis=1).apply(sorted) \n",
    "    df_tmp['to_from'] = df_tmp['to_from'].astype(str)\n",
    "    df_tmp = df_tmp.drop_duplicates(subset='to_from').drop(columns='to_from')\n",
    "    \n",
    "    # number of unique genes after cleaning data    \n",
    "    print(f'number of drug-drug/gene-gene similarities: {df_tmp.shape[0]}')\n",
    "    \n",
    "    return(df_tmp)"
   ]
  },
  {
   "cell_type": "code",
   "execution_count": null,
   "metadata": {},
   "outputs": [],
   "source": [
    "# load the mapping (the dictionary from ChEMBL to Gene ID)\n",
    "with open(f'{FILE_PATH}/ChEMBL2Entrez.pkl', 'rb') as f:\n",
    "    ChEMBL2Entrez = pickle.load(f)\n",
    "Entrez2ChEMBL = dict((y,x) for x,y in ChEMBL2Entrez.items())"
   ]
  },
  {
   "cell_type": "markdown",
   "metadata": {},
   "source": [
    "### Creat edgelists"
   ]
  },
  {
   "cell_type": "markdown",
   "metadata": {},
   "source": [
    "#### 1- DTI"
   ]
  },
  {
   "cell_type": "code",
   "execution_count": null,
   "metadata": {},
   "outputs": [],
   "source": [
    "DTI = pd.read_csv(f'{FILE_PATH}/DTI_known_ChEMBL.csv')\n",
    "DTI.head()"
   ]
  },
  {
   "cell_type": "code",
   "execution_count": null,
   "metadata": {},
   "outputs": [],
   "source": [
    "# find max durg id (protein IDs start after it)\n",
    "max_drugId = DTI['from'].max()\n",
    "\n",
    "# create a dictionary for mapping protein IDs to numeric ID (protein IDs start from: max_drugId+1)\n",
    "protein_ID = list(set(DTI['to']))\n",
    "protein2num = {k: v+max_drugId+1 for v, k in enumerate(sorted(protein_ID))}\n",
    "\n",
    "with open(f'{FILE_PATH}protein2num.pkl', 'wb') as fp:\n",
    "            pickle.dump(protein2num, fp)\n",
    "\n",
    "DTI_newID = DTI.replace(protein2num)\n",
    "DTI_newID.to_csv(f'{FILE_PATH}edgelis/DTI.csv')\n",
    "\n",
    "DTI_newID.head()"
   ]
  },
  {
   "cell_type": "markdown",
   "metadata": {},
   "source": [
    "#### 2- PPS"
   ]
  },
  {
   "cell_type": "code",
   "execution_count": null,
   "metadata": {},
   "outputs": [],
   "source": [
    "PPS_seq = pd.read_csv(f'{FILE_PATH}/PPS(seq)_known_ChEMBLid_P556.csv', index_col=0)\n",
    "PPS_seq"
   ]
  },
  {
   "cell_type": "code",
   "execution_count": null,
   "metadata": {},
   "outputs": [],
   "source": [
    "# Creating Edgelist for protein-protein similarity\n",
    "ChEMBL_id = pd.read_csv(f'{FILE_PATH}/uniprot_Seq.csv')\n",
    "protein_list = list(ChEMBL_id[\"ChEMBL_ID\"])\n",
    "\n",
    "PPS_seq = pd.read_csv(f'{FILE_PATH}/PPS(seq)_known_ChEMBLid_P{len(protein_list)}.csv', index_col=0)\n",
    "PPS_seq.columns = list(ChEMBL_id[\"ChEMBL_ID\"])\n",
    "PPS_seq[\"index\"] = list(ChEMBL_id[\"ChEMBL_ID\"])\n",
    "PPS_seq = PPS_seq.set_index(\"index\")\n",
    "PPS_seq = PPS_seq.rename_axis(None)\n",
    "#PPS_seq_edglist = similarity_interaction(PPS_seq)\n",
    "#PPS_seq_edglist.to_csv(f'{FILE_PATH}/PPS_seq_edglist_df.csv')\n",
    "#PPS_seq_edglist.head()"
   ]
  },
  {
   "cell_type": "code",
   "execution_count": null,
   "metadata": {},
   "outputs": [],
   "source": [
    "# change protein IDs to numeric IDs\n",
    "PPS_seq_newID = PPS_seq_edglist.replace(protein2num)\n",
    "PPS_seq_newID.to_csv(f'{FILE_PATH}/edgelis/PPS_seq.csv')\n",
    "\n",
    "PPS_seq_newID.head()"
   ]
  }
 ],
 "metadata": {
  "kernelspec": {
   "display_name": "Python 3",
   "language": "python",
   "name": "python3"
  },
  "language_info": {
   "codemirror_mode": {
    "name": "ipython",
    "version": 3
   },
   "file_extension": ".py",
   "mimetype": "text/x-python",
   "name": "python",
   "nbconvert_exporter": "python",
   "pygments_lexer": "ipython3",
   "version": "3.8.10"
  }
 },
 "nbformat": 4,
 "nbformat_minor": 4
}
