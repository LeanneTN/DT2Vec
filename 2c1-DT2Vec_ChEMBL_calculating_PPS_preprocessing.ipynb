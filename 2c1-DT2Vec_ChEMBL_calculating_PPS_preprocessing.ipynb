{
 "cells": [
  {
   "cell_type": "code",
   "execution_count": null,
   "metadata": {},
   "outputs": [],
   "source": [
    "import csv\n",
    "import subprocess\n",
    "import re\n",
    "import os\n",
    "import pandas as pd\n",
    "from itertools import chain\n",
    "from tqdm import tqdm\n",
    "import numpy as np\n",
    "import pickle"
   ]
  },
  {
   "cell_type": "code",
   "execution_count": null,
   "metadata": {},
   "outputs": [],
   "source": [
    "# Reading DTI\n",
    "DTI = pd.read_csv('DTI_known_ChEMBL.csv')\n",
    "print (f'Number of known +/- Drug-target interactions: {len(DTI)}')\n",
    "DTI.head()"
   ]
  },
  {
   "cell_type": "code",
   "execution_count": null,
   "metadata": {},
   "outputs": [],
   "source": [
    "# ChEMBL_id to Entrez_id (from uniprot)\n",
    "with open('ChEMBL2Entrez.pkl', 'rb') as f:\n",
    "    ChEMBL2Entrez = pickle.load(f)\n",
    "ChEMBL2Entrez"
   ]
  },
  {
   "cell_type": "code",
   "execution_count": null,
   "metadata": {},
   "outputs": [],
   "source": [
    "# Replacing ChEMBL ids with Entrez\n",
    "DTI_temp = DTI.replace(ChEMBL2Entrez)\n",
    "print(f'number of unique protein in DTI: {len(set(list(DTI_temp[\"to\"])))}')\n",
    "DTI_temp['to_ChEMBL'] = DTI[\"to\"]\n",
    "DTI_temp.head()"
   ]
  },
  {
   "cell_type": "code",
   "execution_count": null,
   "metadata": {},
   "outputs": [],
   "source": [
    "target_Entrez_ids = pd.DataFrame(list(set(DTI.replace(ChEMBL2Entrez)[\"to\"])))\n",
    "target_Entrez_ids.to_csv(\"Entrez_protein_DTI.csv\",index=False, header=False)"
   ]
  }
 ],
 "metadata": {
  "kernelspec": {
   "display_name": "Python 3",
   "language": "python",
   "name": "python3"
  },
  "language_info": {
   "codemirror_mode": {
    "name": "ipython",
    "version": 3
   },
   "file_extension": ".py",
   "mimetype": "text/x-python",
   "name": "python",
   "nbconvert_exporter": "python",
   "pygments_lexer": "ipython3",
   "version": "3.8.10"
  }
 },
 "nbformat": 4,
 "nbformat_minor": 4
}
