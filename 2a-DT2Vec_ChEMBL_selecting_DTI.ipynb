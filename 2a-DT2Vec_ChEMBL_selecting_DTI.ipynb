{
 "cells": [
  {
   "cell_type": "markdown",
   "metadata": {},
   "source": [
    "# Seleceting DTI from ChEMBL\n",
    "- CheMBL dataset: https://www.ebi.ac.uk/chembl/g/#browse/activities"
   ]
  },
  {
   "cell_type": "code",
   "execution_count": null,
   "metadata": {},
   "outputs": [],
   "source": [
    "import pickle\n",
    "import pandas as pd"
   ]
  },
  {
   "cell_type": "code",
   "execution_count": null,
   "metadata": {},
   "outputs": [],
   "source": [
    "FILE_PATH = '.'\n",
    "MIN_INTERACTION = 100 #min number of drug interaction\n",
    "HIGHLY_POS = 5.5 #min positive'pChEMBL Value' \n",
    "HIGHLY_NEG = 0 #negative pChEMBL Value' \n",
    "MIN_pChEMBL_VALUE = 0"
   ]
  },
  {
   "cell_type": "code",
   "execution_count": null,
   "metadata": {},
   "outputs": [],
   "source": [
    "def all_unknown_drug(set_all_real_drug, set_all_real_target, dic_all_real_interactions):\n",
    "    \"\"\"\n",
    "    This function create all unkown drug-target interactions and save it (.pkl)\n",
    "    \n",
    "    Args: \n",
    "        set_all_real_drug: list of unique drug names\n",
    "        set_all_real_target: list of unique target names\n",
    "        dic_all_real_interactions: dictionary of all known drug-target interactions    \n",
    "    \"\"\"\n",
    "    \n",
    "    first = 0\n",
    "    step = 50000\n",
    "    len_total = 0 \n",
    "    # Sinece the data is big --> spilit it to small parts and save them separately\n",
    "    for i in range(step, len(set_all_real_drug), step):\n",
    "        set_all_real_drug_temp = set_all_real_drug[first:i]\n",
    "        all_unknown_interactions = {(x,y) for x in set_all_real_drug_temp for y in set_all_real_target}\n",
    "        all_unknown_interactions.difference_update(dic_all_real_interactions.keys())\n",
    "        pd.DataFrame(all_unknown_interactions).to_csv('/unknown_interactions_'+ f'{first}_{i}.csv')\n",
    "        with open(f'/unknown_interactions_'+f'{first}_{i}.pkl', 'wb') as fp:\n",
    "            pickle.dump(all_unknown_interactions, fp)\n",
    "        print(f'\\nindex: {first}_{i}')\n",
    "        print(f'len: {len(all_unknown_interactions)}')\n",
    "        first = i \n",
    "        len_total += len(all_unknown_interactions)\n",
    "        del all_unknown_interactions \n",
    "        del set_all_real_drug_temp\n",
    "\n",
    "    if first < len(set_all_real_drug):\n",
    "        set_all_real_drug_temp = set_all_real_drug[first:len(set_all_real_drug)]\n",
    "        all_unknown_interactions = {(x,y) for x in set_all_real_drug_temp for y in set_all_real_target}\n",
    "        all_unknown_interactions.difference_update(dic_all_real_interactions.keys())\n",
    "        pd.DataFrame(all_unknown_interactions).to_csv('/unknown_interactions_'+ f'{first}_{len(set_all_real_drug)}.csv')\n",
    "        with open(f'/unknown_interactions_'+ f'{first}_{len(set_all_real_drug)}.pkl', 'wb') as fp:\n",
    "            pickle.dump(all_unknown_interactions, fp)\n",
    "        print(f'\\nindex: {first}_{len(set_all_real_drug)}')\n",
    "        print(f'len: {len(all_unknown_interactions)}')\n",
    "        len_total += len(all_unknown_interactions)\n",
    "        del all_unknown_interactions \n",
    "        del set_all_real_drug_temp\n",
    "   \n",
    "    del dic_all_real_interactions \n",
    "    print(f'\\nlen unkown DTI: {len_total}')\n",
    "    return None"
   ]
  },
  {
   "cell_type": "markdown",
   "metadata": {},
   "source": [
    "## ChEMBL\n",
    "\n",
    "(https://www.ebi.ac.uk/chembl/g/#search_results/all)\n",
    "\n",
    "========== Selecting criteria part-1 ============\n",
    "\n",
    "with:\n",
    "- Homo sapiens\n",
    "- SINGLE PROTEIN\n",
    "- Drugs: with at least 'MIN_INTERACTION' interaction (select those drugs that we have enough known interaction)\n",
    "\n",
    "without:\n",
    "- Smiles\n"
   ]
  },
  {
   "cell_type": "code",
   "execution_count": null,
   "metadata": {},
   "outputs": [],
   "source": [
    "ChEMBL = pd.read_csv(f'{FILE_PATH}/CHEMBL27_find_negative.csv', sep=';')"
   ]
  },
  {
   "cell_type": "code",
   "execution_count": null,
   "metadata": {},
   "outputs": [],
   "source": [
    "ChEMBL = pd.read_csv(f'{FILE_PATH}/CHEMBL27_find_negative.csv', sep=';')\n",
    "ChEMBL = ChEMBL[ChEMBL['Target Type']=='SINGLE PROTEIN']\n",
    "ChEMBL = ChEMBL[ChEMBL['Smiles'].notna()]"
   ]
  },
  {
   "cell_type": "code",
   "execution_count": null,
   "metadata": {},
   "outputs": [],
   "source": [
    "MIN_INTERACTION = 0"
   ]
  },
  {
   "cell_type": "code",
   "execution_count": null,
   "metadata": {},
   "outputs": [],
   "source": [
    "# Selecting those drug that we have a least n interactions (+/-)\n",
    "df_num_drug_interaction = pd.DataFrame(ChEMBL['Molecule ChEMBL ID'].value_counts()).reset_index()\n",
    "list_high_interacted_drug = list(df_num_drug_interaction[df_num_drug_interaction['Molecule ChEMBL ID']>=MIN_INTERACTION]['index'])\n",
    "ChEMBL = ChEMBL[ChEMBL['Molecule ChEMBL ID'].isin(list_high_interacted_drug)]"
   ]
  },
  {
   "cell_type": "markdown",
   "metadata": {},
   "source": [
    "## Finding positive DTI based on 'pChEMBL Value'\n",
    "\n",
    "========== Selecting criteria part-2 ============\n",
    "\n",
    "with:\n",
    "- 'pChEMBL Value'\n",
    "- 'IC50' \n",
    "-  Comment: ['Active', 'active', 'NaN']\n",
    "\n",
    "without:\n",
    "- 'Data Validity Comment': ['Potential author error', 'Potential transcription error']\n",
    "\n"
   ]
  },
  {
   "cell_type": "code",
   "execution_count": null,
   "metadata": {},
   "outputs": [],
   "source": [
    "ChEMBL_positive_interaction = ChEMBL.sort_values('pChEMBL Value', ascending=False).dropna(subset=['pChEMBL Value'])\n",
    "ChEMBL_positive_interaction = ChEMBL_positive_interaction[ChEMBL_positive_interaction['Comment'].isin(['Active','active'])|ChEMBL_positive_interaction['Comment'].isnull()]\n",
    "ChEMBL_positive_interaction = ChEMBL_positive_interaction[ChEMBL_positive_interaction['Data Validity Comment'].isnull()]                            \n",
    "ChEMBL_positive_interaction = ChEMBL_positive_interaction[ChEMBL_positive_interaction['Standard Type'].isin(['IC50'])]"
   ]
  },
  {
   "cell_type": "code",
   "execution_count": null,
   "metadata": {},
   "outputs": [],
   "source": [
    "# Select all interaction with positive 'pChEMBL Value'(as an weighted interaction)\n",
    "ChEMBL_positive_interaction = ChEMBL_positive_interaction[ChEMBL_positive_interaction['pChEMBL Value']>= MIN_pChEMBL_VALUE]\n",
    "duplicateRows_df = ChEMBL_positive_interaction[ChEMBL_positive_interaction.duplicated(['Molecule ChEMBL ID','Target ChEMBL ID'])]\n",
    "# Removing duplicate negative interactions\n",
    "ChEMBL_positive_interaction['tuple_of_int'] = ChEMBL_positive_interaction[['Molecule ChEMBL ID', 'Target ChEMBL ID']].apply(tuple, axis=1)\n",
    "dic_ChEMBL_positive_interaction = pd.Series(ChEMBL_positive_interaction['pChEMBL Value'].values, index=ChEMBL_positive_interaction['tuple_of_int']).to_dict()\n",
    "\n",
    "ChEMBL_positive_interaction[['Molecule ChEMBL ID','Target ChEMBL ID','pChEMBL Value', 'Comment']].head()"
   ]
  },
  {
   "cell_type": "markdown",
   "metadata": {},
   "source": [
    "## Negative samples from ChEMBL\n",
    "\n",
    "========== Selecting criteria part-3 ============\n",
    "\n",
    "with: \n",
    "- 'Comment':['Not Active','Not Active (inhibition < 50% @ 10 uM and thus dose-reponse curve not measured)',\n",
    "'inactive','Inactive']\n",
    "\n",
    "without:\n",
    "- 'pChEMBL Value'\n",
    "- 'Data Validity Comment': ['Outside typical range']\n"
   ]
  },
  {
   "cell_type": "code",
   "execution_count": null,
   "metadata": {},
   "outputs": [],
   "source": [
    "# Selecting negative interaction  \n",
    "list_neg = ['Not Active (inhibition < 50% @ 10 uM and thus dose-reponse curve not measured)','Not Active','inactive', 'Inactive']\n",
    "ChEMBL_negative_interaction = ChEMBL[ChEMBL['Comment'].isin(list_neg)][['Molecule ChEMBL ID','Target ChEMBL ID','pChEMBL Value', 'Comment', 'Data Validity Comment','Standard Type']]\n",
    "ChEMBL_negative_interaction = ChEMBL_negative_interaction [ChEMBL_negative_interaction['pChEMBL Value'].isnull()]\n",
    "ChEMBL_negative_interaction = ChEMBL_negative_interaction[ChEMBL_negative_interaction['Data Validity Comment'].isnull()]\n",
    "\n",
    "# Removing duplicate negative interactions\n",
    "ChEMBL_negative_interaction['tuple_of_int'] = ChEMBL_negative_interaction[['Molecule ChEMBL ID', 'Target ChEMBL ID']].apply(tuple, axis=1)\n",
    "dic_ChEMBL_negative_interaction = pd.Series(ChEMBL_negative_interaction['pChEMBL Value'].values, index=ChEMBL_negative_interaction['tuple_of_int']).to_dict()\n",
    "\n",
    "ChEMBL_negative_interaction[['Molecule ChEMBL ID', 'Target ChEMBL ID', 'pChEMBL Value', 'Comment']].head()"
   ]
  },
  {
   "cell_type": "markdown",
   "metadata": {},
   "source": [
    "## All drug-target interactions (+/-)"
   ]
  },
  {
   "cell_type": "code",
   "execution_count": null,
   "metadata": {},
   "outputs": [],
   "source": [
    "# All konown negative and positive interactions\n",
    "ChEMBL_negative_interaction = ChEMBL_negative_interaction[['Molecule ChEMBL ID','Target ChEMBL ID','pChEMBL Value']].fillna(0)\n",
    "ChEMBL_positive_interaction = ChEMBL_positive_interaction[['Molecule ChEMBL ID','Target ChEMBL ID','pChEMBL Value']]\n",
    "all_real_interactions = ChEMBL_negative_interaction.append(ChEMBL_positive_interaction)\n",
    "\n",
    "all_real_interactions.head()"
   ]
  },
  {
   "cell_type": "code",
   "execution_count": null,
   "metadata": {},
   "outputs": [],
   "source": [
    "ChEMBL = pd.read_csv(f'{FILE_PATH}/CHEMBL27_find_negative.csv', sep=';') \n",
    "phase_dict = dict(zip(ChEMBL['Molecule ChEMBL ID'], ChEMBL['Molecule Max Phase']))"
   ]
  },
  {
   "cell_type": "markdown",
   "metadata": {},
   "source": [
    "### More analysis for discusstion"
   ]
  },
  {
   "cell_type": "code",
   "execution_count": null,
   "metadata": {},
   "outputs": [],
   "source": [
    "CHEMBL3869 = all_real_interactions[all_real_interactions['Target ChEMBL ID']=='CHEMBL3869']\n",
    "CHEMBL3869 = CHEMBL3869[CHEMBL3869['pChEMBL Value']>=5.5]\n",
    "CHEMBL3869['phase'] = CHEMBL3869['Molecule ChEMBL ID'].map(phase_dict)\n",
    "CHEMBL3869.to_csv('CHEMBL3869_drugs.csv')"
   ]
  },
  {
   "cell_type": "code",
   "execution_count": null,
   "metadata": {
    "scrolled": true
   },
   "outputs": [],
   "source": [
    "all_real_interactions[all_real_interactions['Molecule ChEMBL ID']=='CHEMBL1873475']['Target ChEMBL ID'].value_counts()"
   ]
  },
  {
   "cell_type": "code",
   "execution_count": null,
   "metadata": {},
   "outputs": [],
   "source": [
    "# Assigned the averaged for DTI with multiple pChEMBL Value\n",
    "all_real_interactions['tuple_of_int'] = all_real_interactions[['Molecule ChEMBL ID', 'Target ChEMBL ID']].apply(tuple, axis=1)\n",
    "dic_all_real_interactions = pd.Series(all_real_interactions['pChEMBL Value'].values, index=all_real_interactions['tuple_of_int']).to_dict()\n",
    "\n",
    "duplicated_pChEMBL_Value = pd.DataFrame(all_real_interactions['tuple_of_int'].value_counts())\n",
    "duplicated_pChEMBL_Value[duplicated_pChEMBL_Value['tuple_of_int']>1] \n",
    "\n",
    "for i in duplicated_pChEMBL_Value.index:\n",
    "    median = all_real_interactions[all_real_interactions['tuple_of_int']==i]['pChEMBL Value'].median()\n",
    "    mean = all_real_interactions[all_real_interactions['tuple_of_int']==i]['pChEMBL Value'].mean()\n",
    "    if (median == 0.0) and (mean < 1.5): \n",
    "        avg_pChEMBL = 0.0\n",
    "    else:\n",
    "        avg_pChEMBL = mean\n",
    "    \n",
    "    dic_all_real_interactions[i] = avg_pChEMBL  "
   ]
  },
  {
   "cell_type": "code",
   "execution_count": null,
   "metadata": {},
   "outputs": [],
   "source": [
    "df_all_real_DTI = pd.DataFrame.from_dict(dic_all_real_interactions, orient='index', columns=['weight'])\n",
    "df_all_real_DTI.index = pd.MultiIndex.from_tuples(df_all_real_DTI.index)\n",
    "df_all_real_DTI.index.names = ['from', 'to']\n",
    "df_all_real_DTI = df_all_real_DTI.reset_index()\n",
    "\n",
    "df_all_real_DTI.head()"
   ]
  },
  {
   "cell_type": "code",
   "execution_count": null,
   "metadata": {},
   "outputs": [],
   "source": [
    "df_all_real_DTI"
   ]
  },
  {
   "cell_type": "code",
   "execution_count": null,
   "metadata": {},
   "outputs": [],
   "source": [
    "# Selecting strong postive and negative interactions \n",
    "df_high_pos = df_all_real_DTI[df_all_real_DTI['weight']>= HIGHLY_POS]\n",
    "df_high_neg = df_all_real_DTI[df_all_real_DTI['weight']<= HIGHLY_NEG]"
   ]
  },
  {
   "cell_type": "code",
   "execution_count": null,
   "metadata": {},
   "outputs": [],
   "source": [
    "real_drug = len(set(all_real_interactions['Molecule ChEMBL ID']))\n",
    "print(f'Total Num of unique drug: {real_drug}')\n",
    "\n",
    "real_gene = len(set(all_real_interactions['Target ChEMBL ID']))\n",
    "print(f'Total Num of unique gene: {real_gene}')\n",
    "\n",
    "print(f'Num of possible DTI: {real_gene*real_drug}\\n')\n",
    "\n",
    "print(f'Num of highly + interactions >= {HIGHLY_POS}: {len(df_high_pos)}')\n",
    "print(f'Num of + interactions>{HIGHLY_NEG } and <{HIGHLY_POS}: {len(dic_all_real_interactions)-len(df_high_neg)-len(df_high_pos)}')\n",
    "print(f'Num of - interactions: {len(df_high_neg)}\\n')\n",
    "\n",
    "\n",
    "print(f'Total Num of DTI: {len(dic_all_real_interactions)} (for creating embedding graph/training and test)')\n",
    "print(f'Total Num of highly + and - : {len(df_high_neg)+len(df_high_pos)} (for binary classification)')\n",
    "print(f'Total Num of unkown DTI: {real_gene*real_drug- len(dic_all_real_interactions)} (for prediction/experimental)')"
   ]
  },
  {
   "cell_type": "code",
   "execution_count": null,
   "metadata": {},
   "outputs": [],
   "source": [
    "## save new list of DTI then remove "
   ]
  },
  {
   "cell_type": "code",
   "execution_count": null,
   "metadata": {},
   "outputs": [],
   "source": [
    "# Creating dictionary from ChEMBL-ID to smiles (removed dublicated drugs ID)\n",
    "ChEBL2Smiles_tmp = pd.Series(ChEMBL['Smiles'].values, index=ChEMBL['Molecule ChEMBL ID']).to_dict()\n",
    "keys = set(df_all_real_DTI['from']).intersection(set(ChEBL2Smiles_tmp.keys()))\n",
    "df_ChEBL2Smiles = pd.DataFrame.from_dict({k:ChEBL2Smiles_tmp[k] for k in keys}, orient='index').reset_index()\n",
    "df_ChEBL2Smiles.to_csv('/SMILES_main.txt', sep='\\t', index=False, header=False)\n",
    "\n",
    "df_ChEBL2Smiles"
   ]
  },
  {
   "cell_type": "code",
   "execution_count": null,
   "metadata": {},
   "outputs": [],
   "source": [
    "df_Smilesdict2ChEBL = pd.DataFrame()\n",
    "df_Smilesdict2ChEBL['index'] = df_ChEBL2Smiles[0].copy()\n",
    "df_Smilesdict2ChEBL[0] = df_ChEBL2Smiles['index'].copy()\n",
    "df_Smilesdict2ChEBL.to_csv('/temp_SMILES_main.txt', sep='\\t', index=False, header=False)"
   ]
  },
  {
   "cell_type": "code",
   "execution_count": null,
   "metadata": {},
   "outputs": [],
   "source": [
    "df_all_real_DTI.to_csv('/DTI_known_ChEMBLid_originalID.csv')\n",
    "df_all_real_DTI['from'] = df_all_real_DTI['from'].str.replace('CHEMBL', '')\n",
    "df_all_real_DTI.to_csv('/DTI_known_ChEMBL.csv', index= False)"
   ]
  },
  {
   "cell_type": "markdown",
   "metadata": {},
   "source": [
    "## Selecting unknown interactions (prediction-dataset)"
   ]
  },
  {
   "cell_type": "code",
   "execution_count": null,
   "metadata": {},
   "outputs": [],
   "source": [
    "set_all_real_target = list(set(all_real_interactions['Target ChEMBL ID']))\n",
    "set_all_real_drug = list(set(all_real_interactions['Molecule ChEMBL ID']))"
   ]
  },
  {
   "cell_type": "code",
   "execution_count": null,
   "metadata": {},
   "outputs": [],
   "source": [
    "# Run this once to find all unknown interation between all drugs and targets\n",
    "all_unknown_drug(set_all_real_drug, set_all_real_target, dic_all_real_interactions)"
   ]
  },
  {
   "cell_type": "code",
   "execution_count": null,
   "metadata": {},
   "outputs": [],
   "source": []
  }
 ],
 "metadata": {
  "kernelspec": {
   "display_name": "Python 3",
   "language": "python",
   "name": "python3"
  },
  "language_info": {
   "codemirror_mode": {
    "name": "ipython",
    "version": 3
   },
   "file_extension": ".py",
   "mimetype": "text/x-python",
   "name": "python",
   "nbconvert_exporter": "python",
   "pygments_lexer": "ipython3",
   "version": "3.8.10"
  }
 },
 "nbformat": 4,
 "nbformat_minor": 2
}
